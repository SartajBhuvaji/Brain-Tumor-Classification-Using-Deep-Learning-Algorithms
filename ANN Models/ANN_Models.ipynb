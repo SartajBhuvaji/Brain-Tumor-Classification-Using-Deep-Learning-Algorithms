{
  "nbformat": 4,
  "nbformat_minor": 0,
  "metadata": {
    "colab": {
      "name": "ANN_Models.ipynb",
      "provenance": [],
      "collapsed_sections": []
    },
    "kernelspec": {
      "name": "python3",
      "display_name": "Python 3"
    },
    "accelerator": "GPU"
  },
  "cells": [
    {
      "cell_type": "code",
      "metadata": {
        "id": "g9wNhdPsYxZU",
        "colab_type": "code",
        "outputId": "a91f3efd-00e3-453c-a18a-454cf998531b",
        "colab": {
          "base_uri": "https://localhost:8080/",
          "height": 55
        }
      },
      "source": [
        "from google.colab import drive \n",
        "drive.mount('/content/gdrive')"
      ],
      "execution_count": 0,
      "outputs": [
        {
          "output_type": "stream",
          "text": [
            "Drive already mounted at /content/gdrive; to attempt to forcibly remount, call drive.mount(\"/content/gdrive\", force_remount=True).\n"
          ],
          "name": "stdout"
        }
      ]
    },
    {
      "cell_type": "code",
      "metadata": {
        "id": "Co8gpYuRY8qa",
        "colab_type": "code",
        "outputId": "bab9b793-035a-434a-f5b4-1cb0e754fadf",
        "colab": {
          "base_uri": "https://localhost:8080/",
          "height": 53
        }
      },
      "source": [
        "%cd /content/gdrive/My Drive/ANN\n",
        "!ls"
      ],
      "execution_count": 0,
      "outputs": [
        {
          "output_type": "stream",
          "text": [
            "/content/gdrive/My Drive/ANN\n",
            "X_test.pickle  X_train.pickle  Y_test.pickle  Y_train.pickle\n"
          ],
          "name": "stdout"
        }
      ]
    },
    {
      "cell_type": "code",
      "metadata": {
        "id": "lyip4etNZFiW",
        "colab_type": "code",
        "outputId": "575fe611-0626-4275-da3d-0c544ccab817",
        "colab": {
          "base_uri": "https://localhost:8080/",
          "height": 35
        }
      },
      "source": [
        "%tensorflow_version 1.x"
      ],
      "execution_count": 0,
      "outputs": [
        {
          "output_type": "stream",
          "text": [
            "TensorFlow 1.x selected.\n"
          ],
          "name": "stdout"
        }
      ]
    },
    {
      "cell_type": "code",
      "metadata": {
        "id": "GDKOYZs-ZFnK",
        "colab_type": "code",
        "outputId": "f232550b-dd36-4ba8-ba16-218f8b5fcdb4",
        "colab": {
          "base_uri": "https://localhost:8080/",
          "height": 35
        }
      },
      "source": [
        "from tensorflow.keras.models import Sequential\n",
        "from tensorflow.keras.layers import Dense, Dropout, Activation, Flatten\n",
        "from tensorflow.keras.layers import Conv2D, MaxPooling2D\n",
        "from tensorflow.keras.callbacks import TensorBoard, EarlyStopping\n",
        "import pickle\n",
        "import time\n",
        "import numpy as np\n",
        "import keras.optimizers\n",
        "from sklearn.metrics import classification_report"
      ],
      "execution_count": 0,
      "outputs": [
        {
          "output_type": "stream",
          "text": [
            "Using TensorFlow backend.\n"
          ],
          "name": "stderr"
        }
      ]
    },
    {
      "cell_type": "code",
      "metadata": {
        "id": "vTGdRWoUZFr8",
        "colab_type": "code",
        "outputId": "ff95a025-d2c4-40c5-e7ad-ee0409229ec3",
        "colab": {
          "base_uri": "https://localhost:8080/",
          "height": 35
        }
      },
      "source": [
        "import tensorflow\n",
        "print(tensorflow.__version__)"
      ],
      "execution_count": 0,
      "outputs": [
        {
          "output_type": "stream",
          "text": [
            "1.15.2\n"
          ],
          "name": "stdout"
        }
      ]
    },
    {
      "cell_type": "code",
      "metadata": {
        "id": "Pemjyb2LZFxT",
        "colab_type": "code",
        "colab": {}
      },
      "source": [
        "tensorboard = TensorBoard(log_dir='./logs', histogram_freq=0,\n",
        "                          write_graph=True, write_images=False)\n",
        "es = EarlyStopping(monitor='val_loss', mode='min', verbose=1, patience=5)\n"
      ],
      "execution_count": 0,
      "outputs": []
    },
    {
      "cell_type": "code",
      "metadata": {
        "id": "dlXIgPlqZFut",
        "colab_type": "code",
        "colab": {}
      },
      "source": [
        "import pickle\n",
        "\n",
        "pickle_in = open(\"X_test.pickle\",\"rb\")\n",
        "X_test = pickle.load(pickle_in)\n",
        "\n",
        "pickle_in = open(\"X_train.pickle\",\"rb\")\n",
        "X_train = pickle.load(pickle_in)\n",
        "\n",
        "pickle_in = open(\"Y_test.pickle\",\"rb\")\n",
        "Y_test = pickle.load(pickle_in)\n",
        "\n",
        "pickle_in = open(\"Y_train.pickle\",\"rb\")\n",
        "Y_train = pickle.load(pickle_in)"
      ],
      "execution_count": 0,
      "outputs": []
    },
    {
      "cell_type": "code",
      "metadata": {
        "id": "SAebvioZZFqN",
        "colab_type": "code",
        "outputId": "ecd2e820-c660-4b6c-db5b-83ea655e1a44",
        "colab": {
          "base_uri": "https://localhost:8080/",
          "height": 53
        }
      },
      "source": [
        "print(X_train.shape)\n",
        "print(X_test.shape)"
      ],
      "execution_count": 0,
      "outputs": [
        {
          "output_type": "stream",
          "text": [
            "(1006, 150, 150, 3)\n",
            "(607, 150, 150, 3)\n"
          ],
          "name": "stdout"
        }
      ]
    },
    {
      "cell_type": "code",
      "metadata": {
        "id": "WJC4xzjcZFl9",
        "colab_type": "code",
        "outputId": "31945957-4342-4f5e-d827-48de911d0006",
        "colab": {
          "base_uri": "https://localhost:8080/",
          "height": 181
        }
      },
      "source": [
        "dense_layers = [0,1,2]\n",
        "layer_sizes = [32, 64, 128]\n",
        "\n",
        "for dense_layer in dense_layers:\n",
        "    for layer_size in layer_sizes:\n",
        "      NAME = \"{}-nodes-{}-dense-{}\".format(layer_size, dense_layer, int(time.time()))\n",
        "      print(NAME)"
      ],
      "execution_count": 0,
      "outputs": [
        {
          "output_type": "stream",
          "text": [
            "32-nodes-0-dense-1585650488\n",
            "64-nodes-0-dense-1585650488\n",
            "128-nodes-0-dense-1585650488\n",
            "32-nodes-1-dense-1585650488\n",
            "64-nodes-1-dense-1585650488\n",
            "128-nodes-1-dense-1585650488\n",
            "32-nodes-2-dense-1585650488\n",
            "64-nodes-2-dense-1585650488\n",
            "128-nodes-2-dense-1585650488\n"
          ],
          "name": "stdout"
        }
      ]
    },
    {
      "cell_type": "code",
      "metadata": {
        "id": "N9oEfx2JImgc",
        "colab_type": "code",
        "outputId": "730f43fc-c044-4096-e473-b0764052ac3d",
        "colab": {
          "base_uri": "https://localhost:8080/",
          "height": 17
        }
      },
      "source": [
        "#%load_ext tensorboard\n",
        "%tensorboard --logdir=logs"
      ],
      "execution_count": 0,
      "outputs": [
        {
          "output_type": "display_data",
          "data": {
            "text/html": [
              "\n",
              "    <div id=\"root\"></div>\n",
              "    <script>\n",
              "      (function() {\n",
              "        window.TENSORBOARD_ENV = window.TENSORBOARD_ENV || {};\n",
              "        window.TENSORBOARD_ENV[\"IN_COLAB\"] = true;\n",
              "        document.querySelector(\"base\").href = \"https://localhost:6007\";\n",
              "        function fixUpTensorboard(root) {\n",
              "          const tftb = root.querySelector(\"tf-tensorboard\");\n",
              "          // Disable the fragment manipulation behavior in Colab. Not\n",
              "          // only is the behavior not useful (as the iframe's location\n",
              "          // is not visible to the user), it causes TensorBoard's usage\n",
              "          // of `window.replace` to navigate away from the page and to\n",
              "          // the `localhost:<port>` URL specified by the base URI, which\n",
              "          // in turn causes the frame to (likely) crash.\n",
              "          tftb.removeAttribute(\"use-hash\");\n",
              "        }\n",
              "        function executeAllScripts(root) {\n",
              "          // When `script` elements are inserted into the DOM by\n",
              "          // assigning to an element's `innerHTML`, the scripts are not\n",
              "          // executed. Thus, we manually re-insert these scripts so that\n",
              "          // TensorBoard can initialize itself.\n",
              "          for (const script of root.querySelectorAll(\"script\")) {\n",
              "            const newScript = document.createElement(\"script\");\n",
              "            newScript.type = script.type;\n",
              "            newScript.textContent = script.textContent;\n",
              "            root.appendChild(newScript);\n",
              "            script.remove();\n",
              "          }\n",
              "        }\n",
              "        function setHeight(root, height) {\n",
              "          // We set the height dynamically after the TensorBoard UI has\n",
              "          // been initialized. This avoids an intermediate state in\n",
              "          // which the container plus the UI become taller than the\n",
              "          // final width and cause the Colab output frame to be\n",
              "          // permanently resized, eventually leading to an empty\n",
              "          // vertical gap below the TensorBoard UI. It's not clear\n",
              "          // exactly what causes this problematic intermediate state,\n",
              "          // but setting the height late seems to fix it.\n",
              "          root.style.height = `${height}px`;\n",
              "        }\n",
              "        const root = document.getElementById(\"root\");\n",
              "        fetch(\".\")\n",
              "          .then((x) => x.text())\n",
              "          .then((html) => void (root.innerHTML = html))\n",
              "          .then(() => fixUpTensorboard(root))\n",
              "          .then(() => executeAllScripts(root))\n",
              "          .then(() => setHeight(root, 800));\n",
              "      })();\n",
              "    </script>\n",
              "  "
            ],
            "text/plain": [
              "<IPython.core.display.HTML object>"
            ]
          },
          "metadata": {
            "tags": []
          }
        }
      ]
    },
    {
      "cell_type": "code",
      "metadata": {
        "id": "UoX7nxrnJq7t",
        "colab_type": "code",
        "colab": {}
      },
      "source": [
        "%reload_ext tensorboard"
      ],
      "execution_count": 0,
      "outputs": []
    },
    {
      "cell_type": "code",
      "metadata": {
        "id": "MrYhc-GKJBVQ",
        "colab_type": "code",
        "outputId": "4116eb27-0adf-4ff6-b380-6dcb4efa70ae",
        "colab": {
          "base_uri": "https://localhost:8080/",
          "height": 110
        }
      },
      "source": [
        "from tensorboard import notebook\n",
        "notebook.list() # View open TensorBoard instances\n",
        "\n",
        "notebook.display(port=6006, height=1000)"
      ],
      "execution_count": 0,
      "outputs": [
        {
          "output_type": "stream",
          "text": [
            "Known TensorBoard instances:\n",
            "  - port 6007: logdir logs (started 0:00:08 ago; pid 488)\n",
            "  - port 6006: logdir logs (started 0:05:33 ago; pid 350)\n",
            "Selecting TensorBoard with logdir logs (started 0:05:33 ago; port 6006, pid 350).\n"
          ],
          "name": "stdout"
        },
        {
          "output_type": "display_data",
          "data": {
            "text/html": [
              "\n",
              "    <div id=\"root\"></div>\n",
              "    <script>\n",
              "      (function() {\n",
              "        window.TENSORBOARD_ENV = window.TENSORBOARD_ENV || {};\n",
              "        window.TENSORBOARD_ENV[\"IN_COLAB\"] = true;\n",
              "        document.querySelector(\"base\").href = \"https://localhost:6006\";\n",
              "        function fixUpTensorboard(root) {\n",
              "          const tftb = root.querySelector(\"tf-tensorboard\");\n",
              "          // Disable the fragment manipulation behavior in Colab. Not\n",
              "          // only is the behavior not useful (as the iframe's location\n",
              "          // is not visible to the user), it causes TensorBoard's usage\n",
              "          // of `window.replace` to navigate away from the page and to\n",
              "          // the `localhost:<port>` URL specified by the base URI, which\n",
              "          // in turn causes the frame to (likely) crash.\n",
              "          tftb.removeAttribute(\"use-hash\");\n",
              "        }\n",
              "        function executeAllScripts(root) {\n",
              "          // When `script` elements are inserted into the DOM by\n",
              "          // assigning to an element's `innerHTML`, the scripts are not\n",
              "          // executed. Thus, we manually re-insert these scripts so that\n",
              "          // TensorBoard can initialize itself.\n",
              "          for (const script of root.querySelectorAll(\"script\")) {\n",
              "            const newScript = document.createElement(\"script\");\n",
              "            newScript.type = script.type;\n",
              "            newScript.textContent = script.textContent;\n",
              "            root.appendChild(newScript);\n",
              "            script.remove();\n",
              "          }\n",
              "        }\n",
              "        function setHeight(root, height) {\n",
              "          // We set the height dynamically after the TensorBoard UI has\n",
              "          // been initialized. This avoids an intermediate state in\n",
              "          // which the container plus the UI become taller than the\n",
              "          // final width and cause the Colab output frame to be\n",
              "          // permanently resized, eventually leading to an empty\n",
              "          // vertical gap below the TensorBoard UI. It's not clear\n",
              "          // exactly what causes this problematic intermediate state,\n",
              "          // but setting the height late seems to fix it.\n",
              "          root.style.height = `${height}px`;\n",
              "        }\n",
              "        const root = document.getElementById(\"root\");\n",
              "        fetch(\".\")\n",
              "          .then((x) => x.text())\n",
              "          .then((html) => void (root.innerHTML = html))\n",
              "          .then(() => fixUpTensorboard(root))\n",
              "          .then(() => executeAllScripts(root))\n",
              "          .then(() => setHeight(root, 1000));\n",
              "      })();\n",
              "    </script>\n",
              "  "
            ],
            "text/plain": [
              "<IPython.core.display.HTML object>"
            ]
          },
          "metadata": {
            "tags": []
          }
        }
      ]
    },
    {
      "cell_type": "code",
      "metadata": {
        "id": "KT-adMjsZQY3",
        "colab_type": "code",
        "outputId": "c5e879d3-329a-4267-bd1c-f0432b2de844",
        "colab": {
          "base_uri": "https://localhost:8080/",
          "height": 1000
        }
      },
      "source": [
        "dense_layers = [0,1, 2]\n",
        "layer_sizes = [32, 64, 128]\n",
        "for dense_layer in dense_layers:\n",
        "    for layer_size in layer_sizes:\n",
        "      #   \n",
        "      NAME = \"nodes-{}-dense-{}\".format(layer_size, dense_layer, int(time.time()))\n",
        "      print(NAME)\n",
        "      model = Sequential()\n",
        "      model.add(Flatten(input_shape=X_train.shape[1:]))\n",
        "      for _ in range(dense_layer):\n",
        "          model.add(Dense(layer_size))\n",
        "          model.add(Activation('relu'))\n",
        "          model.add(Dropout(0.33))\n",
        "\n",
        "      model.add(Dense(4))\n",
        "      model.add(Activation('softmax'))\n",
        "\n",
        "\n",
        "      model.compile(loss='sparse_categorical_crossentropy',\n",
        "        optimizer= \"adam\",\n",
        "        metrics=['accuracy'],\n",
        "        )\n",
        "      \n",
        "      #Fit the model\n",
        "      model.fit(X_train, Y_train,\n",
        "      batch_size=32,\n",
        "      epochs=20,\n",
        "      validation_data=(X_test,Y_test),\n",
        "      callbacks=[tensorboard,es])\n",
        "              \n",
        "      #Score \n",
        "      scores = model.evaluate(X_test, Y_test, verbose=1) \n",
        "      print('Test loss:', scores[0])\n",
        "      print('Test accuracy:', scores[1])\n",
        "      \n",
        "      #Save model\n",
        "      model.save(\"{}-model-{}-accuracy.h5\".format(NAME,scores[1]))\n",
        "      \n",
        "      #precision    recall  f1-score   support\n",
        "      y_pred = model.predict(X_test, batch_size=64, verbose=1)\n",
        "      y_pred_bool = np.argmax(y_pred, axis=1)\n",
        "      print(classification_report(Y_test, y_pred_bool))\n",
        "      print()\n",
        "      print()  "
      ],
      "execution_count": 0,
      "outputs": [
        {
          "output_type": "stream",
          "text": [
            "nodes-32-dense-0\n",
            "WARNING:tensorflow:From /tensorflow-1.15.2/python3.6/tensorflow_core/python/ops/resource_variable_ops.py:1630: calling BaseResourceVariable.__init__ (from tensorflow.python.ops.resource_variable_ops) with constraint is deprecated and will be removed in a future version.\n",
            "Instructions for updating:\n",
            "If using Keras pass *_constraint arguments to layers.\n",
            "Train on 1006 samples, validate on 607 samples\n",
            "Epoch 1/20\n",
            "  32/1006 [..............................] - ETA: 58s - loss: 41.8915 - acc: 0.3438WARNING:tensorflow:Method (on_train_batch_end) is slow compared to the batch update (0.125601). Check your callbacks.\n",
            "1006/1006 [==============================] - 2s 2ms/sample - loss: 922.3333 - acc: 0.4016 - val_loss: 456.9620 - val_acc: 0.5568\n",
            "Epoch 2/20\n",
            "1006/1006 [==============================] - 0s 254us/sample - loss: 229.3181 - acc: 0.6660 - val_loss: 156.5977 - val_acc: 0.6870\n",
            "Epoch 3/20\n",
            "1006/1006 [==============================] - 0s 246us/sample - loss: 126.3268 - acc: 0.7286 - val_loss: 159.4041 - val_acc: 0.6507\n",
            "Epoch 4/20\n",
            "1006/1006 [==============================] - 0s 274us/sample - loss: 79.7549 - acc: 0.7883 - val_loss: 138.1594 - val_acc: 0.7381\n",
            "Epoch 5/20\n",
            "1006/1006 [==============================] - 0s 251us/sample - loss: 103.1610 - acc: 0.7823 - val_loss: 138.1049 - val_acc: 0.7710\n",
            "Epoch 6/20\n",
            "1006/1006 [==============================] - 0s 255us/sample - loss: 53.0258 - acc: 0.8539 - val_loss: 122.6456 - val_acc: 0.7150\n",
            "Epoch 7/20\n",
            "1006/1006 [==============================] - 0s 248us/sample - loss: 48.9899 - acc: 0.8519 - val_loss: 249.6734 - val_acc: 0.6326\n",
            "Epoch 8/20\n",
            "1006/1006 [==============================] - 0s 263us/sample - loss: 25.1113 - acc: 0.9155 - val_loss: 152.1239 - val_acc: 0.8105\n",
            "Epoch 9/20\n",
            "1006/1006 [==============================] - 0s 259us/sample - loss: 11.8716 - acc: 0.9423 - val_loss: 106.5127 - val_acc: 0.7759\n",
            "Epoch 10/20\n",
            "1006/1006 [==============================] - 0s 254us/sample - loss: 26.9135 - acc: 0.8907 - val_loss: 164.4742 - val_acc: 0.6870\n",
            "Epoch 11/20\n",
            "1006/1006 [==============================] - 0s 240us/sample - loss: 37.3391 - acc: 0.8877 - val_loss: 134.1400 - val_acc: 0.8007\n",
            "Epoch 12/20\n",
            "1006/1006 [==============================] - 0s 248us/sample - loss: 26.9875 - acc: 0.9066 - val_loss: 180.2176 - val_acc: 0.7183\n",
            "Epoch 13/20\n",
            "1006/1006 [==============================] - 0s 256us/sample - loss: 33.3555 - acc: 0.8827 - val_loss: 126.7059 - val_acc: 0.7990\n",
            "Epoch 14/20\n",
            "1006/1006 [==============================] - 0s 244us/sample - loss: 13.1247 - acc: 0.9503 - val_loss: 102.1829 - val_acc: 0.8484\n",
            "Epoch 15/20\n",
            "1006/1006 [==============================] - 0s 250us/sample - loss: 17.2019 - acc: 0.9503 - val_loss: 120.4256 - val_acc: 0.7644\n",
            "Epoch 16/20\n",
            "1006/1006 [==============================] - 0s 252us/sample - loss: 24.7157 - acc: 0.9135 - val_loss: 107.3570 - val_acc: 0.8666\n",
            "Epoch 17/20\n",
            "1006/1006 [==============================] - 0s 256us/sample - loss: 101.4465 - acc: 0.8360 - val_loss: 284.9486 - val_acc: 0.6540\n",
            "Epoch 18/20\n",
            "1006/1006 [==============================] - 0s 253us/sample - loss: 93.7405 - acc: 0.8479 - val_loss: 124.4817 - val_acc: 0.8501\n",
            "Epoch 19/20\n",
            "1006/1006 [==============================] - 0s 245us/sample - loss: 74.8290 - acc: 0.8658 - val_loss: 213.5404 - val_acc: 0.7595\n",
            "Epoch 00019: early stopping\n",
            "607/607 [==============================] - 0s 146us/sample - loss: 213.5404 - acc: 0.7595\n",
            "Test loss: 213.54044639926767\n",
            "Test accuracy: 0.7594728\n",
            "607/607 [==============================] - 0s 145us/sample\n",
            "              precision    recall  f1-score   support\n",
            "\n",
            "           0       0.97      0.57      0.72       150\n",
            "           1       0.57      0.95      0.71       150\n",
            "           2       0.80      0.73      0.77       157\n",
            "           3       0.94      0.79      0.86       150\n",
            "\n",
            "    accuracy                           0.76       607\n",
            "   macro avg       0.82      0.76      0.76       607\n",
            "weighted avg       0.82      0.76      0.76       607\n",
            "\n",
            "\n",
            "\n",
            "nodes-64-dense-0\n",
            "Train on 1006 samples, validate on 607 samples\n",
            "Epoch 1/20\n",
            "1006/1006 [==============================] - 0s 318us/sample - loss: 1804.6946 - acc: 0.3867 - val_loss: 362.9683 - val_acc: 0.5025\n",
            "Epoch 2/20\n",
            "1006/1006 [==============================] - 0s 246us/sample - loss: 245.8182 - acc: 0.6372 - val_loss: 363.4123 - val_acc: 0.5354\n",
            "Epoch 3/20\n",
            "1006/1006 [==============================] - 0s 284us/sample - loss: 109.1839 - acc: 0.7435 - val_loss: 110.8339 - val_acc: 0.7414\n",
            "Epoch 4/20\n",
            "1006/1006 [==============================] - 0s 251us/sample - loss: 84.7039 - acc: 0.7783 - val_loss: 103.3606 - val_acc: 0.7282\n",
            "Epoch 5/20\n",
            "1006/1006 [==============================] - 0s 245us/sample - loss: 102.3412 - acc: 0.7744 - val_loss: 147.7276 - val_acc: 0.6853\n",
            "Epoch 6/20\n",
            "1006/1006 [==============================] - 0s 253us/sample - loss: 85.3861 - acc: 0.8042 - val_loss: 125.2361 - val_acc: 0.7529\n",
            "Epoch 7/20\n",
            "1006/1006 [==============================] - 0s 259us/sample - loss: 68.2453 - acc: 0.8260 - val_loss: 193.3849 - val_acc: 0.7446\n",
            "Epoch 8/20\n",
            "1006/1006 [==============================] - 0s 269us/sample - loss: 34.5590 - acc: 0.8887 - val_loss: 210.1455 - val_acc: 0.7051\n",
            "Epoch 9/20\n",
            "1006/1006 [==============================] - 0s 244us/sample - loss: 26.2073 - acc: 0.8976 - val_loss: 229.5642 - val_acc: 0.7727\n",
            "Epoch 00009: early stopping\n",
            "607/607 [==============================] - 0s 142us/sample - loss: 229.5642 - acc: 0.7727\n",
            "Test loss: 229.56416521905086\n",
            "Test accuracy: 0.7726524\n",
            "607/607 [==============================] - 0s 135us/sample\n",
            "              precision    recall  f1-score   support\n",
            "\n",
            "           0       0.83      0.97      0.90       150\n",
            "           1       0.60      0.84      0.70       150\n",
            "           2       0.96      0.46      0.63       157\n",
            "           3       0.85      0.83      0.84       150\n",
            "\n",
            "    accuracy                           0.77       607\n",
            "   macro avg       0.81      0.78      0.77       607\n",
            "weighted avg       0.81      0.77      0.76       607\n",
            "\n",
            "\n",
            "\n",
            "nodes-128-dense-0\n",
            "Train on 1006 samples, validate on 607 samples\n",
            "Epoch 1/20\n",
            "1006/1006 [==============================] - 0s 324us/sample - loss: 1550.6922 - acc: 0.3429 - val_loss: 493.6843 - val_acc: 0.4942\n",
            "Epoch 2/20\n",
            "1006/1006 [==============================] - 0s 258us/sample - loss: 245.4123 - acc: 0.6193 - val_loss: 187.8080 - val_acc: 0.6837\n",
            "Epoch 3/20\n",
            "1006/1006 [==============================] - 0s 255us/sample - loss: 176.7376 - acc: 0.6958 - val_loss: 106.7878 - val_acc: 0.7529\n",
            "Epoch 4/20\n",
            "1006/1006 [==============================] - 0s 264us/sample - loss: 95.6494 - acc: 0.7843 - val_loss: 100.3327 - val_acc: 0.7776\n",
            "Epoch 5/20\n",
            "1006/1006 [==============================] - 0s 248us/sample - loss: 44.1636 - acc: 0.8499 - val_loss: 156.4851 - val_acc: 0.7496\n",
            "Epoch 6/20\n",
            "1006/1006 [==============================] - 0s 247us/sample - loss: 28.0756 - acc: 0.8847 - val_loss: 98.1897 - val_acc: 0.8122\n",
            "Epoch 7/20\n",
            "1006/1006 [==============================] - 0s 264us/sample - loss: 37.8050 - acc: 0.8618 - val_loss: 123.8452 - val_acc: 0.7743\n",
            "Epoch 8/20\n",
            "1006/1006 [==============================] - 0s 257us/sample - loss: 23.6206 - acc: 0.9095 - val_loss: 140.7446 - val_acc: 0.7710\n",
            "Epoch 9/20\n",
            "1006/1006 [==============================] - 0s 256us/sample - loss: 23.7852 - acc: 0.9026 - val_loss: 145.5042 - val_acc: 0.8122\n",
            "Epoch 10/20\n",
            "1006/1006 [==============================] - 0s 240us/sample - loss: 43.3806 - acc: 0.8777 - val_loss: 202.7195 - val_acc: 0.6985\n",
            "Epoch 11/20\n",
            "1006/1006 [==============================] - 0s 273us/sample - loss: 39.0919 - acc: 0.8837 - val_loss: 181.1427 - val_acc: 0.8023\n",
            "Epoch 00011: early stopping\n",
            "607/607 [==============================] - 0s 153us/sample - loss: 181.1427 - acc: 0.8023\n",
            "Test loss: 181.14268425779642\n",
            "Test accuracy: 0.8023064\n",
            "607/607 [==============================] - 0s 146us/sample\n",
            "              precision    recall  f1-score   support\n",
            "\n",
            "           0       0.71      0.97      0.82       150\n",
            "           1       0.83      0.81      0.82       150\n",
            "           2       0.99      0.57      0.73       157\n",
            "           3       0.79      0.87      0.83       150\n",
            "\n",
            "    accuracy                           0.80       607\n",
            "   macro avg       0.83      0.80      0.80       607\n",
            "weighted avg       0.83      0.80      0.80       607\n",
            "\n",
            "\n",
            "\n",
            "nodes-32-dense-1\n",
            "Train on 1006 samples, validate on 607 samples\n",
            "Epoch 1/20\n",
            "1006/1006 [==============================] - 0s 392us/sample - loss: 329.7245 - acc: 0.2694 - val_loss: 1.3864 - val_acc: 0.2471\n",
            "Epoch 2/20\n",
            "1006/1006 [==============================] - 0s 273us/sample - loss: 1.3863 - acc: 0.2545 - val_loss: 1.3864 - val_acc: 0.2471\n",
            "Epoch 3/20\n",
            "1006/1006 [==============================] - 0s 262us/sample - loss: 1.3902 - acc: 0.2545 - val_loss: 1.3864 - val_acc: 0.2471\n",
            "Epoch 4/20\n",
            "1006/1006 [==============================] - 0s 275us/sample - loss: 1.3863 - acc: 0.2545 - val_loss: 1.3864 - val_acc: 0.2471\n",
            "Epoch 5/20\n",
            "1006/1006 [==============================] - 0s 284us/sample - loss: 1.3863 - acc: 0.2545 - val_loss: 1.3864 - val_acc: 0.2471\n",
            "Epoch 6/20\n",
            "1006/1006 [==============================] - 0s 260us/sample - loss: 1.3863 - acc: 0.2545 - val_loss: 1.3864 - val_acc: 0.2471\n",
            "Epoch 7/20\n",
            "1006/1006 [==============================] - 0s 263us/sample - loss: 1.3863 - acc: 0.2545 - val_loss: 1.3864 - val_acc: 0.2471\n",
            "Epoch 8/20\n",
            "1006/1006 [==============================] - 0s 262us/sample - loss: 1.3863 - acc: 0.2545 - val_loss: 1.3864 - val_acc: 0.2471\n",
            "Epoch 9/20\n",
            "1006/1006 [==============================] - 0s 276us/sample - loss: 1.3864 - acc: 0.2545 - val_loss: 1.3864 - val_acc: 0.2471\n",
            "Epoch 10/20\n",
            "1006/1006 [==============================] - 0s 266us/sample - loss: 1.3863 - acc: 0.2545 - val_loss: 1.3864 - val_acc: 0.2471\n",
            "Epoch 00010: early stopping\n",
            "607/607 [==============================] - 0s 152us/sample - loss: 1.3864 - acc: 0.2471\n",
            "Test loss: 1.3864181232216723\n",
            "Test accuracy: 0.24711697\n",
            "607/607 [==============================] - 0s 168us/sample\n",
            "              precision    recall  f1-score   support\n",
            "\n",
            "           0       0.25      1.00      0.40       150\n",
            "           1       0.00      0.00      0.00       150\n",
            "           2       0.00      0.00      0.00       157\n",
            "           3       0.00      0.00      0.00       150\n",
            "\n",
            "    accuracy                           0.25       607\n",
            "   macro avg       0.06      0.25      0.10       607\n",
            "weighted avg       0.06      0.25      0.10       607\n",
            "\n",
            "\n",
            "\n",
            "nodes-64-dense-1\n",
            "Train on 1006 samples, validate on 607 samples\n"
          ],
          "name": "stdout"
        },
        {
          "output_type": "stream",
          "text": [
            "/usr/local/lib/python3.6/dist-packages/sklearn/metrics/_classification.py:1272: UndefinedMetricWarning: Precision and F-score are ill-defined and being set to 0.0 in labels with no predicted samples. Use `zero_division` parameter to control this behavior.\n",
            "  _warn_prf(average, modifier, msg_start, len(result))\n"
          ],
          "name": "stderr"
        },
        {
          "output_type": "stream",
          "text": [
            "Epoch 1/20\n",
            "1006/1006 [==============================] - 0s 430us/sample - loss: 448.6943 - acc: 0.2604 - val_loss: 1.3863 - val_acc: 0.2471\n",
            "Epoch 2/20\n",
            "1006/1006 [==============================] - 0s 289us/sample - loss: 1.3863 - acc: 0.2545 - val_loss: 1.3863 - val_acc: 0.2471\n",
            "Epoch 3/20\n",
            "1006/1006 [==============================] - 0s 292us/sample - loss: 1.3863 - acc: 0.2545 - val_loss: 1.3863 - val_acc: 0.2471\n",
            "Epoch 4/20\n",
            "1006/1006 [==============================] - 0s 287us/sample - loss: 1.3863 - acc: 0.2545 - val_loss: 1.3863 - val_acc: 0.2471\n",
            "Epoch 5/20\n",
            "1006/1006 [==============================] - 0s 284us/sample - loss: 1.3863 - acc: 0.2545 - val_loss: 1.3863 - val_acc: 0.2471\n",
            "Epoch 6/20\n",
            "1006/1006 [==============================] - 0s 317us/sample - loss: 1.3863 - acc: 0.2545 - val_loss: 1.3864 - val_acc: 0.2471\n",
            "Epoch 00006: early stopping\n",
            "607/607 [==============================] - 0s 153us/sample - loss: 1.3864 - acc: 0.2471\n",
            "Test loss: 1.3863594490770845\n",
            "Test accuracy: 0.24711697\n",
            "607/607 [==============================] - 0s 181us/sample\n",
            "              precision    recall  f1-score   support\n",
            "\n",
            "           0       0.25      1.00      0.40       150\n",
            "           1       0.00      0.00      0.00       150\n",
            "           2       0.00      0.00      0.00       157\n",
            "           3       0.00      0.00      0.00       150\n",
            "\n",
            "    accuracy                           0.25       607\n",
            "   macro avg       0.06      0.25      0.10       607\n",
            "weighted avg       0.06      0.25      0.10       607\n",
            "\n",
            "\n",
            "\n",
            "nodes-128-dense-1\n"
          ],
          "name": "stdout"
        },
        {
          "output_type": "stream",
          "text": [
            "/usr/local/lib/python3.6/dist-packages/sklearn/metrics/_classification.py:1272: UndefinedMetricWarning: Precision and F-score are ill-defined and being set to 0.0 in labels with no predicted samples. Use `zero_division` parameter to control this behavior.\n",
            "  _warn_prf(average, modifier, msg_start, len(result))\n"
          ],
          "name": "stderr"
        },
        {
          "output_type": "stream",
          "text": [
            "Train on 1006 samples, validate on 607 samples\n",
            "Epoch 1/20\n",
            "1006/1006 [==============================] - 0s 454us/sample - loss: 2215.2967 - acc: 0.3489 - val_loss: 129.8312 - val_acc: 0.4185\n",
            "Epoch 2/20\n",
            "1006/1006 [==============================] - 0s 330us/sample - loss: 19.6411 - acc: 0.3330 - val_loss: 1.3851 - val_acc: 0.2471\n",
            "Epoch 3/20\n",
            "1006/1006 [==============================] - 0s 317us/sample - loss: 1.3850 - acc: 0.2555 - val_loss: 1.3850 - val_acc: 0.2471\n",
            "Epoch 4/20\n",
            "1006/1006 [==============================] - 0s 311us/sample - loss: 1.3850 - acc: 0.2555 - val_loss: 1.3849 - val_acc: 0.2471\n",
            "Epoch 5/20\n",
            "1006/1006 [==============================] - 0s 348us/sample - loss: 1.3849 - acc: 0.2555 - val_loss: 1.3848 - val_acc: 0.2471\n",
            "Epoch 6/20\n",
            "1006/1006 [==============================] - 0s 350us/sample - loss: 1.3846 - acc: 0.2555 - val_loss: 1.3846 - val_acc: 0.2471\n",
            "Epoch 7/20\n",
            "1006/1006 [==============================] - 0s 334us/sample - loss: 1.3837 - acc: 0.2565 - val_loss: 1.3844 - val_acc: 0.2471\n",
            "Epoch 8/20\n",
            "1006/1006 [==============================] - 0s 330us/sample - loss: 1.3840 - acc: 0.2565 - val_loss: 1.3847 - val_acc: 0.2471\n",
            "Epoch 9/20\n",
            "1006/1006 [==============================] - 0s 347us/sample - loss: 1.3849 - acc: 0.2555 - val_loss: 1.3848 - val_acc: 0.2471\n",
            "Epoch 10/20\n",
            "1006/1006 [==============================] - 0s 316us/sample - loss: 1.3846 - acc: 0.2555 - val_loss: 1.3845 - val_acc: 0.2471\n",
            "Epoch 11/20\n",
            "1006/1006 [==============================] - 0s 328us/sample - loss: 1.3850 - acc: 0.2555 - val_loss: 1.3845 - val_acc: 0.2471\n",
            "Epoch 12/20\n",
            "1006/1006 [==============================] - 0s 310us/sample - loss: 1.3845 - acc: 0.2555 - val_loss: 1.3842 - val_acc: 0.2471\n",
            "Epoch 13/20\n",
            "1006/1006 [==============================] - 0s 307us/sample - loss: 1.3849 - acc: 0.2555 - val_loss: 1.3842 - val_acc: 0.2471\n",
            "Epoch 14/20\n",
            "1006/1006 [==============================] - 0s 308us/sample - loss: 1.3843 - acc: 0.2555 - val_loss: 1.3841 - val_acc: 0.2504\n",
            "Epoch 15/20\n",
            "1006/1006 [==============================] - 0s 325us/sample - loss: 1.3843 - acc: 0.2565 - val_loss: 1.3839 - val_acc: 0.2504\n",
            "Epoch 16/20\n",
            "1006/1006 [==============================] - 0s 318us/sample - loss: 1.3851 - acc: 0.2555 - val_loss: 1.3841 - val_acc: 0.2504\n",
            "Epoch 17/20\n",
            "1006/1006 [==============================] - 0s 312us/sample - loss: 1.3837 - acc: 0.2555 - val_loss: 1.3843 - val_acc: 0.2471\n",
            "Epoch 18/20\n",
            "1006/1006 [==============================] - 0s 326us/sample - loss: 1.3836 - acc: 0.2555 - val_loss: 1.3843 - val_acc: 0.2471\n",
            "Epoch 19/20\n",
            "1006/1006 [==============================] - 0s 314us/sample - loss: 1.3841 - acc: 0.2565 - val_loss: 1.3846 - val_acc: 0.2471\n",
            "Epoch 20/20\n",
            "1006/1006 [==============================] - 0s 320us/sample - loss: 1.3835 - acc: 0.2565 - val_loss: 1.3846 - val_acc: 0.2471\n",
            "Epoch 00020: early stopping\n",
            "607/607 [==============================] - 0s 181us/sample - loss: 1.3846 - acc: 0.2471\n",
            "Test loss: 1.3845953939381306\n",
            "Test accuracy: 0.24711697\n",
            "607/607 [==============================] - 0s 182us/sample\n",
            "              precision    recall  f1-score   support\n",
            "\n",
            "           0       0.25      1.00      0.40       150\n",
            "           1       0.00      0.00      0.00       150\n",
            "           2       0.00      0.00      0.00       157\n",
            "           3       0.00      0.00      0.00       150\n",
            "\n",
            "    accuracy                           0.25       607\n",
            "   macro avg       0.06      0.25      0.10       607\n",
            "weighted avg       0.06      0.25      0.10       607\n",
            "\n",
            "\n",
            "\n",
            "nodes-32-dense-2\n"
          ],
          "name": "stdout"
        },
        {
          "output_type": "stream",
          "text": [
            "/usr/local/lib/python3.6/dist-packages/sklearn/metrics/_classification.py:1272: UndefinedMetricWarning: Precision and F-score are ill-defined and being set to 0.0 in labels with no predicted samples. Use `zero_division` parameter to control this behavior.\n",
            "  _warn_prf(average, modifier, msg_start, len(result))\n"
          ],
          "name": "stderr"
        },
        {
          "output_type": "stream",
          "text": [
            "Train on 1006 samples, validate on 607 samples\n",
            "Epoch 1/20\n",
            "1006/1006 [==============================] - 0s 442us/sample - loss: 262.1278 - acc: 0.2475 - val_loss: 1.3863 - val_acc: 0.2471\n",
            "Epoch 2/20\n",
            "1006/1006 [==============================] - 0s 309us/sample - loss: 1.3866 - acc: 0.2485 - val_loss: 1.3863 - val_acc: 0.2471\n",
            "Epoch 3/20\n",
            "1006/1006 [==============================] - 0s 329us/sample - loss: 1.3865 - acc: 0.2485 - val_loss: 1.3863 - val_acc: 0.2471\n",
            "Epoch 4/20\n",
            "1006/1006 [==============================] - 0s 303us/sample - loss: 1.3865 - acc: 0.2485 - val_loss: 1.3863 - val_acc: 0.2471\n",
            "Epoch 5/20\n",
            "1006/1006 [==============================] - 0s 360us/sample - loss: 1.3866 - acc: 0.2416 - val_loss: 1.3863 - val_acc: 0.2471\n",
            "Epoch 6/20\n",
            "1006/1006 [==============================] - 0s 327us/sample - loss: 1.3865 - acc: 0.2485 - val_loss: 1.3863 - val_acc: 0.2471\n",
            "Epoch 7/20\n",
            "1006/1006 [==============================] - 0s 303us/sample - loss: 1.3864 - acc: 0.2416 - val_loss: 1.3863 - val_acc: 0.2471\n",
            "Epoch 8/20\n",
            "1006/1006 [==============================] - 0s 293us/sample - loss: 1.3865 - acc: 0.2495 - val_loss: 1.3863 - val_acc: 0.2471\n",
            "Epoch 9/20\n",
            "1006/1006 [==============================] - 0s 309us/sample - loss: 1.3865 - acc: 0.2356 - val_loss: 1.3863 - val_acc: 0.2471\n",
            "Epoch 10/20\n",
            "1006/1006 [==============================] - 0s 293us/sample - loss: 1.3864 - acc: 0.2485 - val_loss: 1.3863 - val_acc: 0.2471\n",
            "Epoch 00010: early stopping\n",
            "607/607 [==============================] - 0s 161us/sample - loss: 1.3863 - acc: 0.2471\n",
            "Test loss: 1.3862971199010508\n",
            "Test accuracy: 0.24711697\n",
            "607/607 [==============================] - 0s 221us/sample\n",
            "              precision    recall  f1-score   support\n",
            "\n",
            "           0       0.00      0.00      0.00       150\n",
            "           1       0.25      1.00      0.40       150\n",
            "           2       0.00      0.00      0.00       157\n",
            "           3       0.00      0.00      0.00       150\n",
            "\n",
            "    accuracy                           0.25       607\n",
            "   macro avg       0.06      0.25      0.10       607\n",
            "weighted avg       0.06      0.25      0.10       607\n",
            "\n",
            "\n",
            "\n",
            "nodes-64-dense-2\n"
          ],
          "name": "stdout"
        },
        {
          "output_type": "stream",
          "text": [
            "/usr/local/lib/python3.6/dist-packages/sklearn/metrics/_classification.py:1272: UndefinedMetricWarning: Precision and F-score are ill-defined and being set to 0.0 in labels with no predicted samples. Use `zero_division` parameter to control this behavior.\n",
            "  _warn_prf(average, modifier, msg_start, len(result))\n"
          ],
          "name": "stderr"
        },
        {
          "output_type": "stream",
          "text": [
            "Train on 1006 samples, validate on 607 samples\n",
            "Epoch 1/20\n",
            "1006/1006 [==============================] - 0s 494us/sample - loss: 338.8123 - acc: 0.2584 - val_loss: 1.3845 - val_acc: 0.2488\n",
            "Epoch 2/20\n",
            "1006/1006 [==============================] - 0s 301us/sample - loss: 1.3852 - acc: 0.2604 - val_loss: 1.3843 - val_acc: 0.2488\n",
            "Epoch 3/20\n",
            "1006/1006 [==============================] - 0s 341us/sample - loss: 1.3864 - acc: 0.2465 - val_loss: 1.3844 - val_acc: 0.2488\n",
            "Epoch 4/20\n",
            "1006/1006 [==============================] - 0s 335us/sample - loss: 1.3865 - acc: 0.2584 - val_loss: 1.3843 - val_acc: 0.2488\n",
            "Epoch 5/20\n",
            "1006/1006 [==============================] - 0s 342us/sample - loss: 1.3864 - acc: 0.2565 - val_loss: 1.3842 - val_acc: 0.2488\n",
            "Epoch 6/20\n",
            "1006/1006 [==============================] - 0s 354us/sample - loss: 1.3849 - acc: 0.2555 - val_loss: 1.3843 - val_acc: 0.2488\n",
            "Epoch 7/20\n",
            "1006/1006 [==============================] - 0s 403us/sample - loss: 1.3850 - acc: 0.2555 - val_loss: 1.3843 - val_acc: 0.2488\n",
            "Epoch 8/20\n",
            "1006/1006 [==============================] - 0s 309us/sample - loss: 1.3851 - acc: 0.2555 - val_loss: 1.3843 - val_acc: 0.2488\n",
            "Epoch 9/20\n",
            "1006/1006 [==============================] - 0s 302us/sample - loss: 1.3863 - acc: 0.2545 - val_loss: 1.3843 - val_acc: 0.2488\n",
            "Epoch 10/20\n",
            "1006/1006 [==============================] - 0s 311us/sample - loss: 1.3849 - acc: 0.2555 - val_loss: 1.3843 - val_acc: 0.2488\n",
            "Epoch 00010: early stopping\n",
            "607/607 [==============================] - 0s 162us/sample - loss: 1.3843 - acc: 0.2488\n",
            "Test loss: 1.3842821867501323\n",
            "Test accuracy: 0.24876441\n",
            "607/607 [==============================] - 0s 209us/sample\n",
            "              precision    recall  f1-score   support\n",
            "\n",
            "           0       0.25      1.00      0.40       150\n",
            "           1       1.00      0.01      0.01       150\n",
            "           2       0.00      0.00      0.00       157\n",
            "           3       0.00      0.00      0.00       150\n",
            "\n",
            "    accuracy                           0.25       607\n",
            "   macro avg       0.31      0.25      0.10       607\n",
            "weighted avg       0.31      0.25      0.10       607\n",
            "\n",
            "\n",
            "\n",
            "nodes-128-dense-2\n"
          ],
          "name": "stdout"
        },
        {
          "output_type": "stream",
          "text": [
            "/usr/local/lib/python3.6/dist-packages/sklearn/metrics/_classification.py:1272: UndefinedMetricWarning: Precision and F-score are ill-defined and being set to 0.0 in labels with no predicted samples. Use `zero_division` parameter to control this behavior.\n",
            "  _warn_prf(average, modifier, msg_start, len(result))\n"
          ],
          "name": "stderr"
        },
        {
          "output_type": "stream",
          "text": [
            "Train on 1006 samples, validate on 607 samples\n",
            "Epoch 1/20\n",
            "1006/1006 [==============================] - 1s 561us/sample - loss: 824.6348 - acc: 0.2515 - val_loss: 1.6015 - val_acc: 0.2488\n",
            "Epoch 2/20\n",
            "1006/1006 [==============================] - 0s 359us/sample - loss: 1.3831 - acc: 0.2535 - val_loss: 1.3840 - val_acc: 0.2488\n",
            "Epoch 3/20\n",
            "1006/1006 [==============================] - 0s 352us/sample - loss: 1.3943 - acc: 0.2555 - val_loss: 1.3863 - val_acc: 0.2471\n",
            "Epoch 4/20\n",
            "1006/1006 [==============================] - 0s 326us/sample - loss: 1.4378 - acc: 0.2545 - val_loss: 1.3863 - val_acc: 0.2471\n",
            "Epoch 5/20\n",
            "1006/1006 [==============================] - 0s 330us/sample - loss: 1.3864 - acc: 0.2545 - val_loss: 1.3863 - val_acc: 0.2471\n",
            "Epoch 6/20\n",
            "1006/1006 [==============================] - 0s 340us/sample - loss: 1.3863 - acc: 0.2545 - val_loss: 1.3863 - val_acc: 0.2471\n",
            "Epoch 7/20\n",
            "1006/1006 [==============================] - 0s 328us/sample - loss: 1.3864 - acc: 0.2545 - val_loss: 1.3863 - val_acc: 0.2471\n",
            "Epoch 00007: early stopping\n",
            "607/607 [==============================] - 0s 190us/sample - loss: 1.3863 - acc: 0.2471\n",
            "Test loss: 1.386318732918389\n",
            "Test accuracy: 0.24711697\n",
            "607/607 [==============================] - 0s 217us/sample\n",
            "              precision    recall  f1-score   support\n",
            "\n",
            "           0       0.25      1.00      0.40       150\n",
            "           1       0.00      0.00      0.00       150\n",
            "           2       0.00      0.00      0.00       157\n",
            "           3       0.00      0.00      0.00       150\n",
            "\n",
            "    accuracy                           0.25       607\n",
            "   macro avg       0.06      0.25      0.10       607\n",
            "weighted avg       0.06      0.25      0.10       607\n",
            "\n",
            "\n",
            "\n"
          ],
          "name": "stdout"
        },
        {
          "output_type": "stream",
          "text": [
            "/usr/local/lib/python3.6/dist-packages/sklearn/metrics/_classification.py:1272: UndefinedMetricWarning: Precision and F-score are ill-defined and being set to 0.0 in labels with no predicted samples. Use `zero_division` parameter to control this behavior.\n",
            "  _warn_prf(average, modifier, msg_start, len(result))\n"
          ],
          "name": "stderr"
        }
      ]
    },
    {
      "cell_type": "code",
      "metadata": {
        "id": "TVMtDfL29Isn",
        "colab_type": "code",
        "colab": {}
      },
      "source": [
        ""
      ],
      "execution_count": 0,
      "outputs": []
    }
  ]
}