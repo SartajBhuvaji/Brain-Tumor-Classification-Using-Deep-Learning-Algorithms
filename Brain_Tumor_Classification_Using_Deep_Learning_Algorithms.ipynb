{
  "nbformat": 4,
  "nbformat_minor": 0,
  "metadata": {
    "colab": {
      "provenance": [],
      "gpuType": "T4"
    },
    "kernelspec": {
      "name": "python3",
      "display_name": "Python 3"
    },
    "language_info": {
      "name": "python"
    },
    "accelerator": "GPU"
  },
  "cells": [
    {
      "cell_type": "markdown",
      "source": [
        "# Brain Tumor Classification Using Deep Learning Algorithms\n",
        " This Notebook is a helper notebook and lets you have an idea of our project. The VGG16 Model created is just for illustration purposes and the accuracy and scores are not actual results of our project. To read more and see our results visit the \"Primary Repo\" from below.\n",
        "\n",
        "You can download this notebook and run on Google Colab directly.\n",
        "If you want to use Flask, clone \"Runner\" and replace model.h5 generated from this file.\n",
        "\n",
        "GitHub Repositories:\n",
        "* [Data Set](https://https://github.com/SartajBhuvaji/Brain-Tumor-Classification-DataSet/)\n",
        "* [Website](https://sartajbhuvaji.github.io/Brain-Tumor-Classification-Website/)\n",
        "*   [Primary Repo](https://github.com/SartajBhuvaji/Brain-Tumor-Classification-Using-Deep-Learning-Algorithms/tree/master)\n",
        "* [Runner](https://github.com/SartajBhuvaji/Brain-Tumor-Classification-Using-Deep-Learning-Algorithms-Runner)\n",
        "* [Kaggle](https://www.kaggle.com/datasets/sartajbhuvaji/brain-tumor-classification-mri)\n",
        "\n"
      ],
      "metadata": {
        "id": "SACRQ2g3dRVz"
      }
    },
    {
      "cell_type": "code",
      "execution_count": 1,
      "metadata": {
        "colab": {
          "base_uri": "https://localhost:8080/"
        },
        "id": "SEhR0ktdGaTO",
        "outputId": "afc06301-471c-4400-a10c-c3911edc4b58"
      },
      "outputs": [
        {
          "output_type": "stream",
          "name": "stdout",
          "text": [
            "Cloning into 'Brain-Tumor-Classification-DataSet'...\n",
            "remote: Enumerating objects: 3039, done.\u001b[K\n",
            "remote: Counting objects: 100% (4/4), done.\u001b[K\n",
            "remote: Compressing objects: 100% (4/4), done.\u001b[K\n",
            "remote: Total 3039 (delta 0), reused 0 (delta 0), pack-reused 3035\u001b[K\n",
            "Receiving objects: 100% (3039/3039), 79.25 MiB | 30.03 MiB/s, done.\n"
          ]
        }
      ],
      "source": [
        "# Get Dataset\n",
        "!git clone https://github.com/SartajBhuvaji/Brain-Tumor-Classification-DataSet"
      ]
    },
    {
      "cell_type": "code",
      "source": [
        "!pwd"
      ],
      "metadata": {
        "colab": {
          "base_uri": "https://localhost:8080/"
        },
        "id": "30D2JGwTGjOn",
        "outputId": "36ad7e57-a1fc-4712-cd10-23723c887e08"
      },
      "execution_count": 2,
      "outputs": [
        {
          "output_type": "stream",
          "name": "stdout",
          "text": [
            "/content\n"
          ]
        }
      ]
    },
    {
      "cell_type": "code",
      "source": [
        "from keras.models import Sequential\n",
        "from keras.layers import Activation\n",
        "from keras.layers.core import Dense, Flatten\n",
        "from keras.optimizers import Adam\n",
        "from keras.callbacks import TensorBoard, EarlyStopping\n",
        "import keras.optimizers\n",
        "from sklearn.metrics import classification_report\n",
        "import keras.optimizers\n",
        "from keras.applications import vgg16\n",
        "import numpy as np\n",
        "import random\n",
        "import os\n",
        "from tqdm import tqdm\n",
        "import pickle\n",
        "import cv2"
      ],
      "metadata": {
        "id": "n6BZDIzIGrU1"
      },
      "execution_count": 3,
      "outputs": []
    },
    {
      "cell_type": "code",
      "source": [
        "# Define necessary constants\n",
        "TEST_DIR = '/content/Brain-Tumor-Classification-DataSet/Testing'\n",
        "TRAIN_DIR = '/content/Brain-Tumor-Classification-DataSet/Training'\n",
        "IMG_SIZE = 224\n",
        "CATEGORIES = [\"glioma_tumor\",\"meningioma_tumor\",\"no_tumor\",\"pituitary_tumor\"]"
      ],
      "metadata": {
        "id": "jtpupRJFGz0s"
      },
      "execution_count": 4,
      "outputs": []
    },
    {
      "cell_type": "code",
      "source": [
        "# Creating training dataset\n",
        "training_data = []\n",
        "\n",
        "def create_training_data():\n",
        "    for category in CATEGORIES:\n",
        "        path = os.path.join(TRAIN_DIR,category)\n",
        "        class_num = CATEGORIES.index(category)\n",
        "        for img in tqdm(os.listdir(path)):\n",
        "          img_array = cv2.imread(os.path.join(path,img) ,cv2.IMREAD_COLOR)\n",
        "          new_array = cv2.resize(img_array, (IMG_SIZE, IMG_SIZE))\n",
        "          training_data.append([new_array, class_num])\n",
        "\n",
        "    random.shuffle(training_data)\n",
        "\n",
        "create_training_data()\n",
        "#np.save('train_data.npy', training_data)\n",
        "print(len(training_data))\n",
        "\n",
        "print(\"train\")\n",
        "print()\n",
        "X_train = np.array([i[0] for i in training_data]).reshape(-1,IMG_SIZE,IMG_SIZE,3)\n",
        "Y_train = [i[1] for i in training_data]\n",
        "\n",
        "pickle_out = open(\"X_train.pickle\",\"wb\")\n",
        "pickle.dump(X_train, pickle_out)\n",
        "pickle_out.close()\n",
        "\n",
        "pickle_out = open(\"Y_train.pickle\",\"wb\")\n",
        "pickle.dump(Y_train, pickle_out)\n",
        "pickle_out.close()"
      ],
      "metadata": {
        "colab": {
          "base_uri": "https://localhost:8080/"
        },
        "id": "T-hYCCwpHqvK",
        "outputId": "5272b84d-6e52-4bf8-d476-213e53c41d63"
      },
      "execution_count": 5,
      "outputs": [
        {
          "output_type": "stream",
          "name": "stderr",
          "text": [
            "100%|██████████| 826/826 [00:05<00:00, 148.46it/s]\n",
            "100%|██████████| 822/822 [00:04<00:00, 176.49it/s]\n",
            "100%|██████████| 395/395 [00:01<00:00, 287.50it/s]\n",
            "100%|██████████| 827/827 [00:03<00:00, 235.98it/s]\n"
          ]
        },
        {
          "output_type": "stream",
          "name": "stdout",
          "text": [
            "2870\n",
            "train\n",
            "\n"
          ]
        }
      ]
    },
    {
      "cell_type": "code",
      "source": [
        "# Creating testing dataset\n",
        "testing_data = []\n",
        "\n",
        "def create_testing_data():\n",
        "    for category in CATEGORIES:\n",
        "        path = os.path.join(TEST_DIR,category)\n",
        "        class_num = CATEGORIES.index(category)\n",
        "\n",
        "        for img in tqdm(os.listdir(path)):\n",
        "          img_array = cv2.imread(os.path.join(path,img) ,cv2.IMREAD_COLOR)\n",
        "          new_array = cv2.resize(img_array, (IMG_SIZE, IMG_SIZE))\n",
        "          testing_data.append([new_array, class_num])\n",
        "\n",
        "    random.shuffle(testing_data)\n",
        "\n",
        "create_testing_data()\n",
        "#np.save('testing_data.npy', testing_data)\n",
        "print(len(testing_data))\n",
        "\n",
        "print(\"testing\")\n",
        "print()\n",
        "X_test= np.array([i[0] for i in testing_data]).reshape(-1,IMG_SIZE,IMG_SIZE,3)\n",
        "Y_test = [i[1] for i in testing_data]\n",
        "\n",
        "pickle_out = open(\"X_test.pickle\",\"wb\")\n",
        "pickle.dump(X_test, pickle_out)\n",
        "pickle_out.close()\n",
        "\n",
        "pickle_out = open(\"Y_test.pickle\",\"wb\")\n",
        "pickle.dump(Y_test, pickle_out)\n",
        "pickle_out.close()"
      ],
      "metadata": {
        "colab": {
          "base_uri": "https://localhost:8080/"
        },
        "id": "GEvzt5DaH_kc",
        "outputId": "c3613ad7-fb5c-4500-d4fc-76240fb4ba55"
      },
      "execution_count": 6,
      "outputs": [
        {
          "output_type": "stream",
          "name": "stderr",
          "text": [
            "100%|██████████| 100/100 [00:00<00:00, 367.71it/s]\n",
            "100%|██████████| 115/115 [00:00<00:00, 507.99it/s]\n",
            "100%|██████████| 105/105 [00:00<00:00, 938.84it/s]\n",
            "100%|██████████| 74/74 [00:00<00:00, 164.95it/s]\n"
          ]
        },
        {
          "output_type": "stream",
          "name": "stdout",
          "text": [
            "394\n",
            "testing\n",
            "\n"
          ]
        }
      ]
    },
    {
      "cell_type": "code",
      "source": [],
      "metadata": {
        "id": "Ao1YO_P3I8DV"
      },
      "execution_count": 6,
      "outputs": []
    },
    {
      "cell_type": "code",
      "source": [
        "# TRAIN MODEL"
      ],
      "metadata": {
        "id": "3LnQd0myJJH8"
      },
      "execution_count": 6,
      "outputs": []
    },
    {
      "cell_type": "code",
      "source": [
        "from keras.models import Sequential\n",
        "from keras.layers import Activation\n",
        "from keras.layers.core import Dense, Flatten\n",
        "from keras.optimizers import Adam\n",
        "from keras.callbacks import TensorBoard, EarlyStopping\n",
        "import keras.optimizers\n",
        "from sklearn.metrics import classification_report\n",
        "import keras.optimizers\n",
        "from keras.applications import vgg16\n",
        "import numpy as np"
      ],
      "metadata": {
        "id": "ib_u2VhvJJLZ"
      },
      "execution_count": 7,
      "outputs": []
    },
    {
      "cell_type": "code",
      "source": [
        "tensorboard = TensorBoard(log_dir='./VGG16logs', histogram_freq=0,\n",
        "                          write_graph=True, write_images=False)\n",
        "es = EarlyStopping(monitor='val_loss', mode='min', verbose=1, patience=5)"
      ],
      "metadata": {
        "id": "GhuZi3GSJJh4"
      },
      "execution_count": 8,
      "outputs": []
    },
    {
      "cell_type": "code",
      "source": [
        "# We'll use VGG16 to quickly define a model\n",
        "vgg16_model = vgg16.VGG16()\n",
        "vgg16_model.summary()\n",
        "type(vgg16_model)"
      ],
      "metadata": {
        "colab": {
          "base_uri": "https://localhost:8080/"
        },
        "id": "3PTNJwlsJLSB",
        "outputId": "5c27bd29-e4f9-4166-e8a9-f5312003f44c"
      },
      "execution_count": 9,
      "outputs": [
        {
          "output_type": "stream",
          "name": "stdout",
          "text": [
            "Downloading data from https://storage.googleapis.com/tensorflow/keras-applications/vgg16/vgg16_weights_tf_dim_ordering_tf_kernels.h5\n",
            "553467096/553467096 [==============================] - 6s 0us/step\n",
            "Model: \"vgg16\"\n",
            "_________________________________________________________________\n",
            " Layer (type)                Output Shape              Param #   \n",
            "=================================================================\n",
            " input_1 (InputLayer)        [(None, 224, 224, 3)]     0         \n",
            "                                                                 \n",
            " block1_conv1 (Conv2D)       (None, 224, 224, 64)      1792      \n",
            "                                                                 \n",
            " block1_conv2 (Conv2D)       (None, 224, 224, 64)      36928     \n",
            "                                                                 \n",
            " block1_pool (MaxPooling2D)  (None, 112, 112, 64)      0         \n",
            "                                                                 \n",
            " block2_conv1 (Conv2D)       (None, 112, 112, 128)     73856     \n",
            "                                                                 \n",
            " block2_conv2 (Conv2D)       (None, 112, 112, 128)     147584    \n",
            "                                                                 \n",
            " block2_pool (MaxPooling2D)  (None, 56, 56, 128)       0         \n",
            "                                                                 \n",
            " block3_conv1 (Conv2D)       (None, 56, 56, 256)       295168    \n",
            "                                                                 \n",
            " block3_conv2 (Conv2D)       (None, 56, 56, 256)       590080    \n",
            "                                                                 \n",
            " block3_conv3 (Conv2D)       (None, 56, 56, 256)       590080    \n",
            "                                                                 \n",
            " block3_pool (MaxPooling2D)  (None, 28, 28, 256)       0         \n",
            "                                                                 \n",
            " block4_conv1 (Conv2D)       (None, 28, 28, 512)       1180160   \n",
            "                                                                 \n",
            " block4_conv2 (Conv2D)       (None, 28, 28, 512)       2359808   \n",
            "                                                                 \n",
            " block4_conv3 (Conv2D)       (None, 28, 28, 512)       2359808   \n",
            "                                                                 \n",
            " block4_pool (MaxPooling2D)  (None, 14, 14, 512)       0         \n",
            "                                                                 \n",
            " block5_conv1 (Conv2D)       (None, 14, 14, 512)       2359808   \n",
            "                                                                 \n",
            " block5_conv2 (Conv2D)       (None, 14, 14, 512)       2359808   \n",
            "                                                                 \n",
            " block5_conv3 (Conv2D)       (None, 14, 14, 512)       2359808   \n",
            "                                                                 \n",
            " block5_pool (MaxPooling2D)  (None, 7, 7, 512)         0         \n",
            "                                                                 \n",
            " flatten (Flatten)           (None, 25088)             0         \n",
            "                                                                 \n",
            " fc1 (Dense)                 (None, 4096)              102764544 \n",
            "                                                                 \n",
            " fc2 (Dense)                 (None, 4096)              16781312  \n",
            "                                                                 \n",
            " predictions (Dense)         (None, 1000)              4097000   \n",
            "                                                                 \n",
            "=================================================================\n",
            "Total params: 138,357,544\n",
            "Trainable params: 138,357,544\n",
            "Non-trainable params: 0\n",
            "_________________________________________________________________\n"
          ]
        },
        {
          "output_type": "execute_result",
          "data": {
            "text/plain": [
              "keras.engine.functional.Functional"
            ]
          },
          "metadata": {},
          "execution_count": 9
        }
      ]
    },
    {
      "cell_type": "code",
      "source": [],
      "metadata": {
        "id": "60ava8WlJPnS"
      },
      "execution_count": null,
      "outputs": []
    },
    {
      "cell_type": "code",
      "source": [
        "# Dropping last layers\n",
        "model = Sequential()\n",
        "for layer in vgg16_model.layers[:-3]:\n",
        "    model.add(layer)\n",
        "\n",
        "\n",
        "for layer in model.layers:\n",
        "    layer.trainable = True\n",
        "\n",
        "# Adding last Dense Layer\n",
        "model.add(Dense(4,activation = 'softmax'))\n",
        "model.summary()"
      ],
      "metadata": {
        "colab": {
          "base_uri": "https://localhost:8080/"
        },
        "id": "FgSH6nMfJYs4",
        "outputId": "fece7bd4-190e-419f-ac53-5c5f60ae17c3"
      },
      "execution_count": 11,
      "outputs": [
        {
          "output_type": "stream",
          "name": "stdout",
          "text": [
            "Model: \"sequential\"\n",
            "_________________________________________________________________\n",
            " Layer (type)                Output Shape              Param #   \n",
            "=================================================================\n",
            " block1_conv1 (Conv2D)       (None, 224, 224, 64)      1792      \n",
            "                                                                 \n",
            " block1_conv2 (Conv2D)       (None, 224, 224, 64)      36928     \n",
            "                                                                 \n",
            " block1_pool (MaxPooling2D)  (None, 112, 112, 64)      0         \n",
            "                                                                 \n",
            " block2_conv1 (Conv2D)       (None, 112, 112, 128)     73856     \n",
            "                                                                 \n",
            " block2_conv2 (Conv2D)       (None, 112, 112, 128)     147584    \n",
            "                                                                 \n",
            " block2_pool (MaxPooling2D)  (None, 56, 56, 128)       0         \n",
            "                                                                 \n",
            " block3_conv1 (Conv2D)       (None, 56, 56, 256)       295168    \n",
            "                                                                 \n",
            " block3_conv2 (Conv2D)       (None, 56, 56, 256)       590080    \n",
            "                                                                 \n",
            " block3_conv3 (Conv2D)       (None, 56, 56, 256)       590080    \n",
            "                                                                 \n",
            " block3_pool (MaxPooling2D)  (None, 28, 28, 256)       0         \n",
            "                                                                 \n",
            " block4_conv1 (Conv2D)       (None, 28, 28, 512)       1180160   \n",
            "                                                                 \n",
            " block4_conv2 (Conv2D)       (None, 28, 28, 512)       2359808   \n",
            "                                                                 \n",
            " block4_conv3 (Conv2D)       (None, 28, 28, 512)       2359808   \n",
            "                                                                 \n",
            " block4_pool (MaxPooling2D)  (None, 14, 14, 512)       0         \n",
            "                                                                 \n",
            " block5_conv1 (Conv2D)       (None, 14, 14, 512)       2359808   \n",
            "                                                                 \n",
            " block5_conv2 (Conv2D)       (None, 14, 14, 512)       2359808   \n",
            "                                                                 \n",
            " block5_conv3 (Conv2D)       (None, 14, 14, 512)       2359808   \n",
            "                                                                 \n",
            " block5_pool (MaxPooling2D)  (None, 7, 7, 512)         0         \n",
            "                                                                 \n",
            " flatten (Flatten)           (None, 25088)             0         \n",
            "                                                                 \n",
            " dense (Dense)               (None, 4)                 100356    \n",
            "                                                                 \n",
            "=================================================================\n",
            "Total params: 14,815,044\n",
            "Trainable params: 14,815,044\n",
            "Non-trainable params: 0\n",
            "_________________________________________________________________\n"
          ]
        }
      ]
    },
    {
      "cell_type": "code",
      "source": [
        "model.compile(loss='sparse_categorical_crossentropy',\n",
        "              optimizer= \"adam\",\n",
        "              metrics=['accuracy'],\n",
        "              )"
      ],
      "metadata": {
        "id": "MKLFV_CXJdeW"
      },
      "execution_count": 12,
      "outputs": []
    },
    {
      "cell_type": "code",
      "source": [
        "X_train = X_train / 255.0\n",
        "X_test = X_test / 255.0\n",
        "\n",
        "Y_train = np.array(Y_train)\n",
        "Y_test = np.array(Y_test)"
      ],
      "metadata": {
        "id": "OqJLvXR1Jyq-"
      },
      "execution_count": 14,
      "outputs": []
    },
    {
      "cell_type": "code",
      "source": [
        "history = model.fit(X_train, Y_train, batch_size=32, epochs=50)"
      ],
      "metadata": {
        "colab": {
          "base_uri": "https://localhost:8080/"
        },
        "id": "d0aAWz21KUUB",
        "outputId": "289377ee-d706-457d-f2af-619fc87ef69b"
      },
      "execution_count": 15,
      "outputs": [
        {
          "output_type": "stream",
          "name": "stdout",
          "text": [
            "Epoch 1/50\n",
            "90/90 [==============================] - 70s 478ms/step - loss: 2.0090 - accuracy: 0.3174\n",
            "Epoch 2/50\n",
            "90/90 [==============================] - 34s 380ms/step - loss: 1.3240 - accuracy: 0.3606\n",
            "Epoch 3/50\n",
            "90/90 [==============================] - 34s 381ms/step - loss: 1.1644 - accuracy: 0.4700\n",
            "Epoch 4/50\n",
            "90/90 [==============================] - 34s 381ms/step - loss: 0.9041 - accuracy: 0.5899\n",
            "Epoch 5/50\n",
            "90/90 [==============================] - 34s 380ms/step - loss: 0.7787 - accuracy: 0.6624\n",
            "Epoch 6/50\n",
            "90/90 [==============================] - 34s 381ms/step - loss: 0.6779 - accuracy: 0.6979\n",
            "Epoch 7/50\n",
            "90/90 [==============================] - 34s 381ms/step - loss: 0.6638 - accuracy: 0.7202\n",
            "Epoch 8/50\n",
            "90/90 [==============================] - 34s 381ms/step - loss: 0.5553 - accuracy: 0.7624\n",
            "Epoch 9/50\n",
            "90/90 [==============================] - 34s 381ms/step - loss: 0.5362 - accuracy: 0.7725\n",
            "Epoch 10/50\n",
            "90/90 [==============================] - 34s 381ms/step - loss: 0.4462 - accuracy: 0.8063\n",
            "Epoch 11/50\n",
            "90/90 [==============================] - 34s 381ms/step - loss: 0.4303 - accuracy: 0.8216\n",
            "Epoch 12/50\n",
            "90/90 [==============================] - 34s 380ms/step - loss: 0.3756 - accuracy: 0.8488\n",
            "Epoch 13/50\n",
            "90/90 [==============================] - 34s 380ms/step - loss: 0.3250 - accuracy: 0.8672\n",
            "Epoch 14/50\n",
            "90/90 [==============================] - 34s 380ms/step - loss: 0.2962 - accuracy: 0.8805\n",
            "Epoch 15/50\n",
            "90/90 [==============================] - 34s 380ms/step - loss: 0.2261 - accuracy: 0.9146\n",
            "Epoch 16/50\n",
            "90/90 [==============================] - 34s 379ms/step - loss: 0.2015 - accuracy: 0.9206\n",
            "Epoch 17/50\n",
            "90/90 [==============================] - 34s 380ms/step - loss: 0.1854 - accuracy: 0.9296\n",
            "Epoch 18/50\n",
            "90/90 [==============================] - 34s 380ms/step - loss: 0.1563 - accuracy: 0.9397\n",
            "Epoch 19/50\n",
            "90/90 [==============================] - 34s 380ms/step - loss: 0.1548 - accuracy: 0.9411\n",
            "Epoch 20/50\n",
            "90/90 [==============================] - 34s 379ms/step - loss: 0.1284 - accuracy: 0.9512\n",
            "Epoch 21/50\n",
            "90/90 [==============================] - 34s 380ms/step - loss: 0.1161 - accuracy: 0.9575\n",
            "Epoch 22/50\n",
            "90/90 [==============================] - 34s 381ms/step - loss: 0.1131 - accuracy: 0.9533\n",
            "Epoch 23/50\n",
            "90/90 [==============================] - 35s 384ms/step - loss: 0.0727 - accuracy: 0.9763\n",
            "Epoch 24/50\n",
            "90/90 [==============================] - 34s 380ms/step - loss: 0.0744 - accuracy: 0.9763\n",
            "Epoch 25/50\n",
            "90/90 [==============================] - 34s 379ms/step - loss: 0.0850 - accuracy: 0.9683\n",
            "Epoch 26/50\n",
            "90/90 [==============================] - 34s 379ms/step - loss: 0.1381 - accuracy: 0.9589\n",
            "Epoch 27/50\n",
            "90/90 [==============================] - 34s 378ms/step - loss: 0.0823 - accuracy: 0.9718\n",
            "Epoch 28/50\n",
            "90/90 [==============================] - 34s 379ms/step - loss: 0.0350 - accuracy: 0.9861\n",
            "Epoch 29/50\n",
            "90/90 [==============================] - 34s 378ms/step - loss: 0.0380 - accuracy: 0.9868\n",
            "Epoch 30/50\n",
            "90/90 [==============================] - 34s 378ms/step - loss: 0.0344 - accuracy: 0.9885\n",
            "Epoch 31/50\n",
            "90/90 [==============================] - 34s 378ms/step - loss: 0.0505 - accuracy: 0.9836\n",
            "Epoch 32/50\n",
            "90/90 [==============================] - 34s 378ms/step - loss: 0.0539 - accuracy: 0.9798\n",
            "Epoch 33/50\n",
            "90/90 [==============================] - 34s 379ms/step - loss: 0.0358 - accuracy: 0.9895\n",
            "Epoch 34/50\n",
            "90/90 [==============================] - 34s 378ms/step - loss: 0.1034 - accuracy: 0.9645\n",
            "Epoch 35/50\n",
            "90/90 [==============================] - 34s 378ms/step - loss: 0.1270 - accuracy: 0.9519\n",
            "Epoch 36/50\n",
            "90/90 [==============================] - 34s 377ms/step - loss: 0.0941 - accuracy: 0.9690\n",
            "Epoch 37/50\n",
            "90/90 [==============================] - 34s 377ms/step - loss: 0.0732 - accuracy: 0.9732\n",
            "Epoch 38/50\n",
            "90/90 [==============================] - 34s 377ms/step - loss: 0.0216 - accuracy: 0.9927\n",
            "Epoch 39/50\n",
            "90/90 [==============================] - 34s 377ms/step - loss: 0.0633 - accuracy: 0.9784\n",
            "Epoch 40/50\n",
            "90/90 [==============================] - 34s 378ms/step - loss: 0.0158 - accuracy: 0.9941\n",
            "Epoch 41/50\n",
            "90/90 [==============================] - 34s 377ms/step - loss: 0.0151 - accuracy: 0.9944\n",
            "Epoch 42/50\n",
            "90/90 [==============================] - 34s 378ms/step - loss: 0.0353 - accuracy: 0.9882\n",
            "Epoch 43/50\n",
            "90/90 [==============================] - 34s 377ms/step - loss: 0.0167 - accuracy: 0.9948\n",
            "Epoch 44/50\n",
            "90/90 [==============================] - 34s 377ms/step - loss: 0.0049 - accuracy: 0.9976\n",
            "Epoch 45/50\n",
            "90/90 [==============================] - 34s 378ms/step - loss: 5.5207e-04 - accuracy: 1.0000\n",
            "Epoch 46/50\n",
            "90/90 [==============================] - 34s 377ms/step - loss: 1.5741e-04 - accuracy: 1.0000\n",
            "Epoch 47/50\n",
            "90/90 [==============================] - 34s 377ms/step - loss: 1.0524e-04 - accuracy: 1.0000\n",
            "Epoch 48/50\n",
            "90/90 [==============================] - 34s 378ms/step - loss: 5.0632e-05 - accuracy: 1.0000\n",
            "Epoch 49/50\n",
            "90/90 [==============================] - 34s 377ms/step - loss: 3.8050e-05 - accuracy: 1.0000\n",
            "Epoch 50/50\n",
            "90/90 [==============================] - 34s 377ms/step - loss: 3.0597e-05 - accuracy: 1.0000\n"
          ]
        }
      ]
    },
    {
      "cell_type": "code",
      "source": [
        "# Evaluate the model\n",
        "scores = model.evaluate(X_test, Y_test, verbose=1)\n",
        "print('Test loss:', scores[0])\n",
        "print('Test accuracy:', scores[1])"
      ],
      "metadata": {
        "id": "yTCXRDyaLuiV"
      },
      "execution_count": null,
      "outputs": []
    },
    {
      "cell_type": "code",
      "source": [
        "model.save(\"model.h5\") # replace model.h5 in \"Runner\""
      ],
      "metadata": {
        "id": "rGc9yqpCP2QJ"
      },
      "execution_count": 16,
      "outputs": []
    },
    {
      "cell_type": "code",
      "source": [
        "y_pred = model.predict(X_test, batch_size=64, verbose=1)\n",
        "y_pred_bool = np.argmax(y_pred, axis=1)\n",
        "print(classification_report(Y_test, y_pred_bool))"
      ],
      "metadata": {
        "id": "v0TQqB8aP2Sf"
      },
      "execution_count": null,
      "outputs": []
    }
  ]
}