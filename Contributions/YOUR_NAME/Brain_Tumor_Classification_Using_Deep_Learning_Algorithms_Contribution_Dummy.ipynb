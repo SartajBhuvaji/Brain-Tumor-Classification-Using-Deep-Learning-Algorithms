{
  "nbformat": 4,
  "nbformat_minor": 0,
  "metadata": {
    "colab": {
      "provenance": [],
      "gpuType": "T4"
    },
    "kernelspec": {
      "name": "python3",
      "display_name": "Python 3"
    },
    "language_info": {
      "name": "python"
    },
    "accelerator": "GPU"
  },
  "cells": [
    {
      "cell_type": "markdown",
      "source": [
        "# Brain Tumor Classification Using Deep Learning Algorithms\n",
        "\n"
      ],
      "metadata": {
        "id": "SACRQ2g3dRVz"
      }
    },
    {
      "cell_type": "markdown",
      "source": [
        "\n",
        "**Contributing to the project:**\n",
        "\n",
        "*   Fork the [Master Branch](https://github.com/SartajBhuvaji/Brain-Tumor-Classification-Using-Deep-Learning-Algorithms)\n",
        "*   Clone your branch\n",
        "*   If you want to contribute by adding your classification model, create a new folder inside ```Contributions/Your_Name```\n",
        "*   Make sure to add a detailed README File.\n",
        "*   Submit a Pull Request\n",
        "\n",
        "Thanks!\n",
        "\n",
        "\n"
      ],
      "metadata": {
        "id": "7h7R14xSYcRz"
      }
    },
    {
      "cell_type": "code",
      "execution_count": null,
      "metadata": {
        "colab": {
          "base_uri": "https://localhost:8080/"
        },
        "id": "SEhR0ktdGaTO",
        "outputId": "afc06301-471c-4400-a10c-c3911edc4b58"
      },
      "outputs": [
        {
          "output_type": "stream",
          "name": "stdout",
          "text": [
            "Cloning into 'Brain-Tumor-Classification-DataSet'...\n",
            "remote: Enumerating objects: 3039, done.\u001b[K\n",
            "remote: Counting objects: 100% (4/4), done.\u001b[K\n",
            "remote: Compressing objects: 100% (4/4), done.\u001b[K\n",
            "remote: Total 3039 (delta 0), reused 0 (delta 0), pack-reused 3035\u001b[K\n",
            "Receiving objects: 100% (3039/3039), 79.25 MiB | 30.03 MiB/s, done.\n"
          ]
        }
      ],
      "source": [
        "# Get Dataset\n",
        "!git clone https://github.com/SartajBhuvaji/Brain-Tumor-Classification-DataSet"
      ]
    },
    {
      "cell_type": "code",
      "source": [
        "!pwd"
      ],
      "metadata": {
        "colab": {
          "base_uri": "https://localhost:8080/"
        },
        "id": "30D2JGwTGjOn",
        "outputId": "36ad7e57-a1fc-4712-cd10-23723c887e08"
      },
      "execution_count": null,
      "outputs": [
        {
          "output_type": "stream",
          "name": "stdout",
          "text": [
            "/content\n"
          ]
        }
      ]
    },
    {
      "cell_type": "code",
      "source": [],
      "metadata": {
        "id": "n6BZDIzIGrU1"
      },
      "execution_count": null,
      "outputs": []
    },
    {
      "cell_type": "code",
      "source": [
        "# Define necessary constants\n",
        "TEST_DIR = '/content/Brain-Tumor-Classification-DataSet/Testing'\n",
        "TRAIN_DIR = '/content/Brain-Tumor-Classification-DataSet/Training'\n",
        "CATEGORIES = [\"glioma_tumor\",\"meningioma_tumor\",\"no_tumor\",\"pituitary_tumor\"]"
      ],
      "metadata": {
        "id": "jtpupRJFGz0s"
      },
      "execution_count": null,
      "outputs": []
    }
  ]
}